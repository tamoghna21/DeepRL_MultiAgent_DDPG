{
 "cells": [
  {
   "cell_type": "markdown",
   "metadata": {},
   "source": [
    "# Deep Reinforcement learning - Training an Agent to Solve Unity-ML Tennis environment using MultiAgent DDPG algorithm\n",
    "---\n",
    "\n",
    "This notebook presents the code to train a Deep RL Agent to solve the Unity ML-Agent Tennis environment. The training uses Multi Agent Deep Deterministic Policy Gradient algorithm.\n",
    "\n",
    "### 1. Import the packages and Start the Environment\n"
   ]
  },
  {
   "cell_type": "code",
   "execution_count": 1,
   "metadata": {},
   "outputs": [],
   "source": [
    "from unityagents import UnityEnvironment\n",
    "import numpy as np\n",
    "import random\n",
    "import torch\n",
    "from collections import deque\n",
    "import matplotlib.pyplot as plt\n",
    "%matplotlib inline\n",
    "\n",
    "from deep_rl.agent.DDPG_agent import DDPGAgent"
   ]
  },
  {
   "cell_type": "code",
   "execution_count": 2,
   "metadata": {},
   "outputs": [
    {
     "name": "stderr",
     "output_type": "stream",
     "text": [
      "INFO:unityagents:\n",
      "'Academy' started successfully!\n",
      "Unity Academy name: Academy\n",
      "        Number of Brains: 1\n",
      "        Number of External Brains : 1\n",
      "        Lesson number : 0\n",
      "        Reset Parameters :\n",
      "\t\t\n",
      "Unity brain name: TennisBrain\n",
      "        Number of Visual Observations (per agent): 0\n",
      "        Vector Observation space type: continuous\n",
      "        Vector Observation space size (per agent): 8\n",
      "        Number of stacked Vector Observation: 3\n",
      "        Vector Action space type: continuous\n",
      "        Vector Action space size (per agent): 2\n",
      "        Vector Action descriptions: , \n"
     ]
    }
   ],
   "source": [
    "# Tennis environment. In this environment, two agents control rackets to bounce a ball over a net.\n",
    "env = UnityEnvironment(file_name=\"Tennis.app\") #In mac"
   ]
  },
  {
   "cell_type": "markdown",
   "metadata": {},
   "source": [
    "Environments contain **_brains_** which are responsible for deciding the actions of their associated agents. Here we check for the first brain available, and set it as the default brain we will be controlling from Python."
   ]
  },
  {
   "cell_type": "code",
   "execution_count": 3,
   "metadata": {},
   "outputs": [],
   "source": [
    "# get the default brain\n",
    "brain_name = env.brain_names[0]\n",
    "brain = env.brains[brain_name]"
   ]
  },
  {
   "cell_type": "markdown",
   "metadata": {},
   "source": [
    "### 2. Examine the State and Action Spaces\n",
    "\n",
    "In this environment, two agents control rackets to bounce a ball over a net. If an agent hits the ball over the net, it receives a reward of +0.1.  If an agent lets a ball hit the ground or hits the ball out of bounds, it receives a reward of -0.01.  Thus, the goal of each agent is to keep the ball in play.\n",
    "\n",
    "The observation space consists of 8 variables corresponding to the position and velocity of the ball and racket. Two continuous actions are available, corresponding to movement toward (or away from) the net, and jumping. \n",
    "\n",
    "Run the code cell below to print some information about the environment."
   ]
  },
  {
   "cell_type": "code",
   "execution_count": 4,
   "metadata": {},
   "outputs": [
    {
     "name": "stdout",
     "output_type": "stream",
     "text": [
      "Number of agents: 2\n",
      "Size of each action: 2\n",
      "There are 2 agents. Each observes a state with length: 24\n",
      "The state for the first agent looks like: [ 0.          0.          0.          0.          0.          0.\n",
      "  0.          0.          0.          0.          0.          0.\n",
      "  0.          0.          0.          0.         -6.65278625 -1.5\n",
      " -0.          0.          6.83172083  6.         -0.          0.        ]\n",
      "8\n",
      "24\n",
      "2\n"
     ]
    }
   ],
   "source": [
    "# reset the environment\n",
    "env_info = env.reset(train_mode=True)[brain_name]\n",
    "\n",
    "# number of agents \n",
    "num_agents = len(env_info.agents)\n",
    "print('Number of agents:', num_agents)\n",
    "\n",
    "# size of each action\n",
    "action_size = brain.vector_action_space_size\n",
    "print('Size of each action:', action_size)\n",
    "\n",
    "# examine the state space \n",
    "states = env_info.vector_observations\n",
    "state_size = states.shape[1]\n",
    "print('There are {} agents. Each observes a state with length: {}'.format(states.shape[0], state_size))\n",
    "print('The state for the first agent looks like:', states[0])\n",
    "\n",
    "print(brain.vector_observation_space_size)\n",
    "print(state_size)\n",
    "print(brain.vector_action_space_size)"
   ]
  },
  {
   "cell_type": "markdown",
   "metadata": {},
   "source": [
    "### 3. Training"
   ]
  },
  {
   "cell_type": "code",
   "execution_count": 5,
   "metadata": {},
   "outputs": [],
   "source": [
    "# create a new agent\n",
    "agent = DDPGAgent(state_size=state_size, action_size=brain.vector_action_space_size, random_seed=1)"
   ]
  },
  {
   "cell_type": "code",
   "execution_count": 6,
   "metadata": {},
   "outputs": [
    {
     "name": "stdout",
     "output_type": "stream",
     "text": [
      "24\n"
     ]
    }
   ],
   "source": [
    "#Just for debug/display purpose\n",
    "print(state_size)"
   ]
  },
  {
   "cell_type": "code",
   "execution_count": 7,
   "metadata": {},
   "outputs": [
    {
     "name": "stdout",
     "output_type": "stream",
     "text": [
      "[[-1.62329803 -1.78604795]\n",
      " [-0.03083499  1.22016808]]\n"
     ]
    }
   ],
   "source": [
    "#Just for debug/display purpose\n",
    "actions = np.random.randn(num_agents, action_size)\n",
    "print(actions)"
   ]
  },
  {
   "cell_type": "code",
   "execution_count": 8,
   "metadata": {},
   "outputs": [
    {
     "name": "stdout",
     "output_type": "stream",
     "text": [
      "[[ 0.          0.          0.          0.          0.          0.\n",
      "   0.          0.          0.          0.          0.          0.\n",
      "   0.          0.          0.          0.         -7.38993645 -1.5\n",
      "  -0.          0.          6.83172083  5.99607611 -0.          0.        ]\n",
      " [ 0.          0.          0.          0.          0.          0.\n",
      "   0.          0.          0.          0.          0.          0.\n",
      "   0.          0.          0.          0.         -6.70024681 -1.5\n",
      "   0.          0.         -6.83172083  5.99607611  0.          0.        ]]\n",
      "(2, 24)\n",
      "[[ 0.03440508 -0.00063448]\n",
      " [ 0.04507908 -0.01415111]]\n"
     ]
    },
    {
     "name": "stderr",
     "output_type": "stream",
     "text": [
      "/Users/tamoghnadas/opt/anaconda3/envs/drlnd/lib/python3.6/site-packages/torch/nn/functional.py:1795: UserWarning: nn.functional.tanh is deprecated. Use torch.tanh instead.\n",
      "  warnings.warn(\"nn.functional.tanh is deprecated. Use torch.tanh instead.\")\n"
     ]
    }
   ],
   "source": [
    "#Just for debug/display purpose\n",
    "noise_factor = 0.1\n",
    "env_info = env.reset(train_mode=True)[brain_name]\n",
    "states = env_info.vector_observations\n",
    "print(states)\n",
    "print(states.shape)\n",
    "actions = agent.act(states, noise_factor=noise_factor)\n",
    "print(actions)"
   ]
  },
  {
   "cell_type": "code",
   "execution_count": 6,
   "metadata": {},
   "outputs": [
    {
     "name": "stdout",
     "output_type": "stream",
     "text": [
      "Episode 100\tAvg Score: 0.02\tavg max score over the last 10 episodes: 0.01\n",
      "Episode 200\tAvg Score: 0.01\tavg max score over the last 10 episodes: 0.00\n",
      "Episode 300\tAvg Score: 0.02\tavg max score over the last 10 episodes: 0.02\n",
      "Episode 400\tAvg Score: 0.05\tavg max score over the last 10 episodes: 0.09\n",
      "Episode 500\tAvg Score: 0.06\tavg max score over the last 10 episodes: 0.02\n",
      "Episode 600\tAvg Score: 0.06\tavg max score over the last 10 episodes: 0.09\n",
      "Episode 700\tAvg Score: 0.10\tavg max score over the last 10 episodes: 0.11\n",
      "Episode 800\tAvg Score: 0.16\tavg max score over the last 10 episodes: 0.11\n",
      "Episode 900\tAvg Score: 0.31\tavg max score over the last 10 episodes: 1.31\n",
      "Episode 917\tmax score: 2.60\tavg max score over the last 10 episodes: 1.66\n",
      "Environment solved in 817 episodes!\tAverage Score: 0.50\n"
     ]
    }
   ],
   "source": [
    "def train_maddpg(n_episodes=3000, max_t=10000, print_every=100):\n",
    "    scores_deque = deque(maxlen=print_every)\n",
    "    scores = []\n",
    "    noise_factor = 0.1  # A factor to multiply random noise\n",
    "    for i_episode in range(1, n_episodes+1):\n",
    "        env_info = env.reset(train_mode=True)[brain_name]\n",
    "        states = env_info.vector_observations # states.shape is (2,24). env_reset returned state of both tennis players\n",
    "        scores_agents = np.zeros(2)  # the scores of both tennis agents after an episode\n",
    "        agent.reset()\n",
    "        for t in range(max_t):\n",
    "            \n",
    "            # The Agent selects Actions\n",
    "            # actions for both the agents (both tennis players)\n",
    "            if i_episode < 100:\n",
    "                actions = np.random.randn(num_agents, action_size)  # use random actions for the first 100 episodes\n",
    "            else:\n",
    "                actions = agent.act(states, noise_factor=noise_factor)\n",
    "            \n",
    "            # Actions of the other player\n",
    "            actions_other_player = np.flip(actions, 0)\n",
    "            \n",
    "            # Environment processes the Action; produces new State, Rewards\n",
    "            env_info = env.step(actions)[brain_name]      \n",
    "            rewards = env_info.rewards                    \n",
    "            next_states = env_info.vector_observations\n",
    "            next_states_other_player = np.flip(next_states, 0)\n",
    "            dones = env_info.local_done \n",
    "            \n",
    "            # The Agent learns\n",
    "            #agent.step(states, actions, rewards, next_states, dones)\n",
    "            agent.step(states, actions, actions_other_player, rewards, next_states, next_states_other_player, dones) \n",
    "            \n",
    "            states = next_states\n",
    "            scores_agents += rewards\n",
    "            if np.any(dones):\n",
    "                break \n",
    "        avg_score = np.mean(scores_agents)  # the average score of the agents\n",
    "        max_score = np.max(scores_agents)  # the max score of the agents\n",
    "        #scores_deque.append(avg_score)\n",
    "        scores_deque.append(max_score)\n",
    "        #scores.append(avg_score)\n",
    "        scores.append(max_score)\n",
    "        \n",
    "        #noise reduced during training as episodes progresses\n",
    "        noise_factor = max(0.995 * noise_factor, 0.01)\n",
    "        \n",
    "        #print('\\rEpisode {:d}\\tscore: {:.2f}\\taverage score over the last 10 episodes: {:.2f}'.format(i_episode, scores_deque[-1], np.mean(list(scores_deque)[-10:])), end=\"\")\n",
    "        print('\\rEpisode {:d}\\tmax score: {:.2f}\\tavg max score over the last 10 episodes: {:.2f}'.format(i_episode, scores_deque[-1], np.mean(list(scores_deque)[-10:])), end=\"\")\n",
    "        #if i_episode % 10 == 0:\n",
    "            #torch.save(agent.actor_local.state_dict(), 'weights/checkpoint_actor_{:d}_{:.2f}.pth'.format(i_episode, scores_deque[-1]))\n",
    "            #torch.save(agent.critic_local.state_dict(), 'weights/checkpoint_critic_{:d}_{:.2f}.pth'.format(i_episode, scores_deque[-1]))\n",
    "        if i_episode > 100 and np.mean(scores_deque) > 0.5:\n",
    "            torch.save(agent.actor_local.state_dict(), 'weights/checkpoint_actor.pth')\n",
    "            torch.save(agent.critic_local.state_dict(), 'weights/checkpoint_critic.pth')\n",
    "            print('\\nEnvironment solved in {:d} episodes!\\tAverage Score: {:.2f}'.format(i_episode-100, np.mean(scores_deque)))\n",
    "            break\n",
    "        if i_episode % print_every == 0:\n",
    "            print('\\rEpisode {}\\tAvg Score: {:.2f}'.format(i_episode, np.mean(scores_deque)))\n",
    "            \n",
    "    return scores\n",
    "\n",
    "scores = train_maddpg()"
   ]
  },
  {
   "cell_type": "code",
   "execution_count": 7,
   "metadata": {},
   "outputs": [],
   "source": [
    "#close the environment\n",
    "env.close()"
   ]
  },
  {
   "cell_type": "markdown",
   "metadata": {},
   "source": [
    "## 4. Plot Score vs Episode#"
   ]
  },
  {
   "cell_type": "code",
   "execution_count": 8,
   "metadata": {},
   "outputs": [
    {
     "data": {
      "image/png": "[encoded data removed]",
      "text/plain": [
       "<Figure size 432x288 with 1 Axes>"
      ]
     },
     "metadata": {
      "needs_background": "light"
     },
     "output_type": "display_data"
    }
   ],
   "source": [
    "fig = plt.figure()\n",
    "ax = fig.add_subplot(111)\n",
    "plt.plot(np.arange(1, len(scores)+1), scores)\n",
    "plt.ylabel('Score')\n",
    "plt.xlabel('Episode #')\n",
    "plt.show()"
   ]
  },
  {
   "cell_type": "code",
   "execution_count": null,
   "metadata": {},
   "outputs": [],
   "source": []
  }
 ],
 "metadata": {
  "kernelspec": {
   "display_name": "drlnd",
   "language": "python",
   "name": "drlnd"
  },
  "language_info": {
   "codemirror_mode": {
    "name": "ipython",
    "version": 3
   },
   "file_extension": ".py",
   "mimetype": "text/x-python",
   "name": "python",
   "nbconvert_exporter": "python",
   "pygments_lexer": "ipython3",
   "version": "3.6.13"
  }
 },
 "nbformat": 4,
 "nbformat_minor": 2
}
